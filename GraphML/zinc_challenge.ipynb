{
 "cells": [
  {
   "cell_type": "markdown",
   "metadata": {},
   "source": [
    "# ZINC"
   ]
  },
  {
   "cell_type": "markdown",
   "metadata": {},
   "source": [
    "The ZINC dataset is a collection of molecular graphs used for predicting molecular properties. It contains about 250,000 commercially available organic molecules with up to 38 heavy atoms (C, N, O, S, F). Each molecule is represented as a graph where atoms are nodes and chemical bonds are edges. The task associated with this dataset is typically to predict a quantum mechanical property of the molecule - specifically, the constrained solubility."
   ]
  },
  {
   "cell_type": "markdown",
   "metadata": {},
   "source": [
    "From TUDataset benchmark:  https://chrsmrrs.github.io/datasets/docs/datasets/"
   ]
  },
  {
   "cell_type": "markdown",
   "metadata": {},
   "source": [
    "You can find similar projects on this dataset: https://paperswithcode.com/sota/graph-classification-on-zinc"
   ]
  },
  {
   "cell_type": "code",
   "execution_count": 2,
   "metadata": {},
   "outputs": [],
   "source": [
    "import torch\n",
    "from torch_geometric.datasets import TUDataset\n",
    "from torch_geometric.loader import DataLoader\n",
    "import torch.nn.functional as F\n",
    "from torch_geometric.nn import GCNConv, global_mean_pool, GATConv, GINConv, GINEConv\n",
    "from torch.nn import Sequential, Linear, ReLU\n",
    "from torch.optim.lr_scheduler import ReduceLROnPlateau"
   ]
  },
  {
   "cell_type": "code",
   "execution_count": 3,
   "metadata": {},
   "outputs": [],
   "source": [
    "# Load ZINC datasets\n",
    "dataset = TUDataset(root='./data', name='ZINC_train')"
   ]
  },
  {
   "cell_type": "code",
   "execution_count": 4,
   "metadata": {},
   "outputs": [
    {
     "name": "stdout",
     "output_type": "stream",
     "text": [
      "Example of a graph:\n",
      " Data(edge_index=[2, 72], x=[33, 28], edge_attr=[72, 3], y=[1])\n",
      "\n",
      "Node features:\n",
      " tensor([[1., 0., 0.,  ..., 0., 0., 0.],\n",
      "        [1., 0., 0.,  ..., 0., 0., 0.],\n",
      "        [1., 0., 0.,  ..., 0., 0., 0.],\n",
      "        ...,\n",
      "        [1., 0., 0.,  ..., 0., 0., 0.],\n",
      "        [1., 0., 0.,  ..., 0., 0., 0.],\n",
      "        [1., 0., 0.,  ..., 0., 0., 0.]])\n",
      "\n",
      "Edge features:\n",
      " tensor([[1., 0., 0.],\n",
      "        [1., 0., 0.],\n",
      "        [1., 0., 0.],\n",
      "        ...,\n",
      "        [0., 1., 0.],\n",
      "        [1., 0., 0.],\n",
      "        [0., 1., 0.]])\n",
      "\n",
      "Graph labels:\n",
      " tensor([ 3.0464,  0.4907,  1.0851,  ..., -1.8943,  2.3303,  1.8092])\n"
     ]
    }
   ],
   "source": [
    "print(f\"Example of a graph:\\n {dataset[0]}\\n\")\n",
    "print(f\"Node features:\\n {dataset.x}\\n\")\n",
    "print(f\"Edge features:\\n {dataset.edge_attr}\\n\")\n",
    "print(f\"Graph labels:\\n {dataset.y}\")"
   ]
  },
  {
   "cell_type": "markdown",
   "metadata": {},
   "source": [
    "# Hints\n",
    "- you may need a dataloader since the dataset is very large\n",
    "- you are free to proceed with any architecture, supervised / unsupervised / self-supervised\n",
    "- you can find multiple examples of similar tasks or model on github"
   ]
  }
 ],
 "metadata": {
  "kernelspec": {
   "display_name": "graphml",
   "language": "python",
   "name": "python3"
  },
  "language_info": {
   "codemirror_mode": {
    "name": "ipython",
    "version": 3
   },
   "file_extension": ".py",
   "mimetype": "text/x-python",
   "name": "python",
   "nbconvert_exporter": "python",
   "pygments_lexer": "ipython3",
   "version": "3.8.20"
  }
 },
 "nbformat": 4,
 "nbformat_minor": 2
}
